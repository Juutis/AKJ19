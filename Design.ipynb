{
 "cells": [
  {
   "cell_type": "markdown",
   "metadata": {},
   "source": [
    "# Visuals\n",
    "## Numbers\n",
    "- Lerp\n",
    "\n",
    "# Configs\n",
    "## Upgrades\n",
    "### Requirements\n",
    "- Height\n",
    "- Other upgrades\n",
    "- Money / other resource\n",
    "### Effects\n",
    "- Stronger click\n",
    "- Automatic (additional) click\n",
    "- Automatic resource generation\n",
    "### Other stuff\n",
    "- Lore text\n",
    "- Description"
   ]
  }
 ],
 "metadata": {
  "language_info": {
   "name": "python"
  }
 },
 "nbformat": 4,
 "nbformat_minor": 2
}
